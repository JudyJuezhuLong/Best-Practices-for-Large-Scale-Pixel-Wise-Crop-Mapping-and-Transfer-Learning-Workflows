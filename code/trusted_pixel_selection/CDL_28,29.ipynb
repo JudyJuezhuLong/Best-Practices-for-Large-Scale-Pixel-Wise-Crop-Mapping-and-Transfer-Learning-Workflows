{
 "cells": [
  {
   "cell_type": "code",
   "execution_count": 1,
   "metadata": {},
   "outputs": [],
   "source": [
    "import numpy as np\n",
    "import pandas as pd\n",
    "import os"
   ]
  },
  {
   "cell_type": "code",
   "execution_count": 2,
   "metadata": {},
   "outputs": [],
   "source": [
    "# Using the crop types of the previous seven years to predict the crop types for 2023\n",
    "year_to_predict = 2023\n",
    "\"\"\"end_year = year_to_predict-1\n",
    "start_year = end_year-7\n",
    "\n",
    "columns_to_check = [f'crop_{year}' for year in range(start_year + 1, end_year + 1)]\n",
    "print(columns_to_check)\n",
    "\"\"\"\n",
    "columns_to_check = ['2023']"
   ]
  },
  {
   "cell_type": "code",
   "execution_count": 3,
   "metadata": {},
   "outputs": [
    {
     "data": {
      "text/html": [
       "<div>\n",
       "<style scoped>\n",
       "    .dataframe tbody tr th:only-of-type {\n",
       "        vertical-align: middle;\n",
       "    }\n",
       "\n",
       "    .dataframe tbody tr th {\n",
       "        vertical-align: top;\n",
       "    }\n",
       "\n",
       "    .dataframe thead th {\n",
       "        text-align: right;\n",
       "    }\n",
       "</style>\n",
       "<table border=\"1\" class=\"dataframe\">\n",
       "  <thead>\n",
       "    <tr style=\"text-align: right;\">\n",
       "      <th></th>\n",
       "      <th>system:index</th>\n",
       "      <th>cropland</th>\n",
       "      <th>latitude</th>\n",
       "      <th>longitude</th>\n",
       "      <th>.geo</th>\n",
       "    </tr>\n",
       "  </thead>\n",
       "  <tbody>\n",
       "    <tr>\n",
       "      <th>0</th>\n",
       "      <td>2013_0</td>\n",
       "      <td>1</td>\n",
       "      <td>44.550960</td>\n",
       "      <td>-95.411784</td>\n",
       "      <td>{\"type\":\"Point\",\"coordinates\":[-95.41178417798...</td>\n",
       "    </tr>\n",
       "    <tr>\n",
       "      <th>1</th>\n",
       "      <td>2013_1</td>\n",
       "      <td>195</td>\n",
       "      <td>44.839965</td>\n",
       "      <td>-96.103567</td>\n",
       "      <td>{\"type\":\"Point\",\"coordinates\":[-96.10356680888...</td>\n",
       "    </tr>\n",
       "    <tr>\n",
       "      <th>2</th>\n",
       "      <td>2013_2</td>\n",
       "      <td>1</td>\n",
       "      <td>45.188304</td>\n",
       "      <td>-95.505555</td>\n",
       "      <td>{\"type\":\"Point\",\"coordinates\":[-95.50555530433...</td>\n",
       "    </tr>\n",
       "    <tr>\n",
       "      <th>3</th>\n",
       "      <td>2013_3</td>\n",
       "      <td>5</td>\n",
       "      <td>44.780556</td>\n",
       "      <td>-95.983092</td>\n",
       "      <td>{\"type\":\"Point\",\"coordinates\":[-95.98309201540...</td>\n",
       "    </tr>\n",
       "    <tr>\n",
       "      <th>4</th>\n",
       "      <td>2013_4</td>\n",
       "      <td>5</td>\n",
       "      <td>44.442522</td>\n",
       "      <td>-94.244866</td>\n",
       "      <td>{\"type\":\"Point\",\"coordinates\":[-94.24486608978...</td>\n",
       "    </tr>\n",
       "  </tbody>\n",
       "</table>\n",
       "</div>"
      ],
      "text/plain": [
       "  system:index  cropland   latitude  longitude  \\\n",
       "0       2013_0         1  44.550960 -95.411784   \n",
       "1       2013_1       195  44.839965 -96.103567   \n",
       "2       2013_2         1  45.188304 -95.505555   \n",
       "3       2013_3         5  44.780556 -95.983092   \n",
       "4       2013_4         5  44.442522 -94.244866   \n",
       "\n",
       "                                                .geo  \n",
       "0  {\"type\":\"Point\",\"coordinates\":[-95.41178417798...  \n",
       "1  {\"type\":\"Point\",\"coordinates\":[-96.10356680888...  \n",
       "2  {\"type\":\"Point\",\"coordinates\":[-95.50555530433...  \n",
       "3  {\"type\":\"Point\",\"coordinates\":[-95.98309201540...  \n",
       "4  {\"type\":\"Point\",\"coordinates\":[-94.24486608978...  "
      ]
     },
     "execution_count": 3,
     "metadata": {},
     "output_type": "execute_result"
    }
   ],
   "source": [
    "# Folder path and file path\n",
    "CDL_folder_path = \"/data/Anonymous/Anonymousfile/best_practice/data/trusted_pixels_in_US_and_LUCAS\"\n",
    "CDL_file_path = site_id+'_cdl_samples_bound_buffered.csv'\n",
    "# CDL_file_path = '28_29_cdl_samples_bound_buffered.csv'\n",
    "\n",
    "# Join the folder path and file path using os.path.join\n",
    "full_path = os.path.join(CDL_folder_path, CDL_file_path)\n",
    "\n",
    "# Read the CSV file into a Pandas DataFrame\n",
    "df = pd.read_csv(full_path)\n",
    "df.head()\n"
   ]
  },
  {
   "cell_type": "code",
   "execution_count": 4,
   "metadata": {},
   "outputs": [
    {
     "data": {
      "text/html": [
       "<div>\n",
       "<style scoped>\n",
       "    .dataframe tbody tr th:only-of-type {\n",
       "        vertical-align: middle;\n",
       "    }\n",
       "\n",
       "    .dataframe tbody tr th {\n",
       "        vertical-align: top;\n",
       "    }\n",
       "\n",
       "    .dataframe thead th {\n",
       "        text-align: right;\n",
       "    }\n",
       "</style>\n",
       "<table border=\"1\" class=\"dataframe\">\n",
       "  <thead>\n",
       "    <tr style=\"text-align: right;\">\n",
       "      <th></th>\n",
       "      <th>sample_id</th>\n",
       "      <th>year</th>\n",
       "      <th>latitude</th>\n",
       "      <th>longitude</th>\n",
       "      <th>cropland</th>\n",
       "    </tr>\n",
       "  </thead>\n",
       "  <tbody>\n",
       "    <tr>\n",
       "      <th>0</th>\n",
       "      <td>0</td>\n",
       "      <td>2013</td>\n",
       "      <td>44.550960</td>\n",
       "      <td>-95.411784</td>\n",
       "      <td>1</td>\n",
       "    </tr>\n",
       "    <tr>\n",
       "      <th>1</th>\n",
       "      <td>1</td>\n",
       "      <td>2013</td>\n",
       "      <td>44.839965</td>\n",
       "      <td>-96.103567</td>\n",
       "      <td>195</td>\n",
       "    </tr>\n",
       "    <tr>\n",
       "      <th>2</th>\n",
       "      <td>2</td>\n",
       "      <td>2013</td>\n",
       "      <td>45.188304</td>\n",
       "      <td>-95.505555</td>\n",
       "      <td>1</td>\n",
       "    </tr>\n",
       "    <tr>\n",
       "      <th>3</th>\n",
       "      <td>3</td>\n",
       "      <td>2013</td>\n",
       "      <td>44.780556</td>\n",
       "      <td>-95.983092</td>\n",
       "      <td>5</td>\n",
       "    </tr>\n",
       "    <tr>\n",
       "      <th>4</th>\n",
       "      <td>4</td>\n",
       "      <td>2013</td>\n",
       "      <td>44.442522</td>\n",
       "      <td>-94.244866</td>\n",
       "      <td>5</td>\n",
       "    </tr>\n",
       "  </tbody>\n",
       "</table>\n",
       "</div>"
      ],
      "text/plain": [
       "  sample_id  year   latitude  longitude  cropland\n",
       "0         0  2013  44.550960 -95.411784         1\n",
       "1         1  2013  44.839965 -96.103567       195\n",
       "2         2  2013  45.188304 -95.505555         1\n",
       "3         3  2013  44.780556 -95.983092         5\n",
       "4         4  2013  44.442522 -94.244866         5"
      ]
     },
     "execution_count": 4,
     "metadata": {},
     "output_type": "execute_result"
    }
   ],
   "source": [
    "df['year'] = df['system:index'].str.slice(0, 4)\n",
    "df['sample_id'] = df['system:index'].str.slice(5,)\n",
    "df = df.loc[:, ['sample_id', 'year','latitude','longitude','cropland']]\n",
    "df.head()"
   ]
  },
  {
   "cell_type": "code",
   "execution_count": 5,
   "metadata": {},
   "outputs": [
    {
     "data": {
      "text/html": [
       "<div>\n",
       "<style scoped>\n",
       "    .dataframe tbody tr th:only-of-type {\n",
       "        vertical-align: middle;\n",
       "    }\n",
       "\n",
       "    .dataframe tbody tr th {\n",
       "        vertical-align: top;\n",
       "    }\n",
       "\n",
       "    .dataframe thead th {\n",
       "        text-align: right;\n",
       "    }\n",
       "</style>\n",
       "<table border=\"1\" class=\"dataframe\">\n",
       "  <thead>\n",
       "    <tr style=\"text-align: right;\">\n",
       "      <th></th>\n",
       "      <th>sample_id</th>\n",
       "      <th>year</th>\n",
       "      <th>latitude</th>\n",
       "      <th>longitude</th>\n",
       "      <th>cropland</th>\n",
       "    </tr>\n",
       "  </thead>\n",
       "  <tbody>\n",
       "    <tr>\n",
       "      <th>10000000</th>\n",
       "      <td>0</td>\n",
       "      <td>2023</td>\n",
       "      <td>44.550960</td>\n",
       "      <td>-95.411784</td>\n",
       "      <td>1</td>\n",
       "    </tr>\n",
       "    <tr>\n",
       "      <th>10000001</th>\n",
       "      <td>1</td>\n",
       "      <td>2023</td>\n",
       "      <td>44.839965</td>\n",
       "      <td>-96.103567</td>\n",
       "      <td>195</td>\n",
       "    </tr>\n",
       "    <tr>\n",
       "      <th>10000002</th>\n",
       "      <td>2</td>\n",
       "      <td>2023</td>\n",
       "      <td>45.188304</td>\n",
       "      <td>-95.505555</td>\n",
       "      <td>1</td>\n",
       "    </tr>\n",
       "    <tr>\n",
       "      <th>10000003</th>\n",
       "      <td>3</td>\n",
       "      <td>2023</td>\n",
       "      <td>44.780556</td>\n",
       "      <td>-95.983092</td>\n",
       "      <td>5</td>\n",
       "    </tr>\n",
       "    <tr>\n",
       "      <th>10000004</th>\n",
       "      <td>4</td>\n",
       "      <td>2023</td>\n",
       "      <td>44.442522</td>\n",
       "      <td>-94.244866</td>\n",
       "      <td>5</td>\n",
       "    </tr>\n",
       "  </tbody>\n",
       "</table>\n",
       "</div>"
      ],
      "text/plain": [
       "         sample_id  year   latitude  longitude  cropland\n",
       "10000000         0  2023  44.550960 -95.411784         1\n",
       "10000001         1  2023  44.839965 -96.103567       195\n",
       "10000002         2  2023  45.188304 -95.505555         1\n",
       "10000003         3  2023  44.780556 -95.983092         5\n",
       "10000004         4  2023  44.442522 -94.244866         5"
      ]
     },
     "execution_count": 5,
     "metadata": {},
     "output_type": "execute_result"
    }
   ],
   "source": [
    "df_2023 = df[df['year'] == '2023']\n",
    "df_2023.head()"
   ]
  },
  {
   "cell_type": "code",
   "execution_count": 6,
   "metadata": {},
   "outputs": [],
   "source": [
    "# Group by the 'sample_id' column\n",
    "grouped = df.groupby('sample_id')\n",
    "\n",
    "# Aggregate multiple functions\n",
    "agg_grouped = grouped.agg({\n",
    "    'latitude': 'first', # Assuming 'latitude' is the same for the same 'sample_id'\n",
    "    'longitude': 'first' # Assuming 'longitude' is the same for the same 'sample_id'\n",
    "})\n",
    "\n",
    "# Use apply to combine all cropland values into a list\n",
    "agg_grouped['cropland_all'] = grouped['cropland'].apply(list)\n",
    "agg_grouped['year_all'] = grouped['year'].apply(list)\n",
    "agg_grouped.reset_index(inplace=True)"
   ]
  },
  {
   "cell_type": "code",
   "execution_count": 7,
   "metadata": {},
   "outputs": [],
   "source": [
    "\n",
    "crop_2023 = [agg_grouped.iloc[i]['cropland_all'][10] for i in range(len(agg_grouped))]\n",
    "\n",
    "new_df = agg_grouped[['sample_id','latitude','longitude']].copy()\n",
    "\n",
    "new_df['crop_2023'] = crop_2023\n",
    "del agg_grouped"
   ]
  },
  {
   "cell_type": "code",
   "execution_count": 8,
   "metadata": {},
   "outputs": [
    {
     "data": {
      "text/html": [
       "<div>\n",
       "<style scoped>\n",
       "    .dataframe tbody tr th:only-of-type {\n",
       "        vertical-align: middle;\n",
       "    }\n",
       "\n",
       "    .dataframe tbody tr th {\n",
       "        vertical-align: top;\n",
       "    }\n",
       "\n",
       "    .dataframe thead th {\n",
       "        text-align: right;\n",
       "    }\n",
       "</style>\n",
       "<table border=\"1\" class=\"dataframe\">\n",
       "  <thead>\n",
       "    <tr style=\"text-align: right;\">\n",
       "      <th></th>\n",
       "      <th>sample_id</th>\n",
       "      <th>latitude</th>\n",
       "      <th>longitude</th>\n",
       "      <th>crop_2023</th>\n",
       "    </tr>\n",
       "  </thead>\n",
       "  <tbody>\n",
       "    <tr>\n",
       "      <th>0</th>\n",
       "      <td>0</td>\n",
       "      <td>44.550960</td>\n",
       "      <td>-95.411784</td>\n",
       "      <td>1</td>\n",
       "    </tr>\n",
       "    <tr>\n",
       "      <th>1</th>\n",
       "      <td>1</td>\n",
       "      <td>44.839965</td>\n",
       "      <td>-96.103567</td>\n",
       "      <td>195</td>\n",
       "    </tr>\n",
       "    <tr>\n",
       "      <th>2</th>\n",
       "      <td>10</td>\n",
       "      <td>44.564679</td>\n",
       "      <td>-95.371450</td>\n",
       "      <td>1</td>\n",
       "    </tr>\n",
       "    <tr>\n",
       "      <th>3</th>\n",
       "      <td>100</td>\n",
       "      <td>45.477924</td>\n",
       "      <td>-95.783639</td>\n",
       "      <td>1</td>\n",
       "    </tr>\n",
       "    <tr>\n",
       "      <th>4</th>\n",
       "      <td>1000</td>\n",
       "      <td>44.110942</td>\n",
       "      <td>-94.226726</td>\n",
       "      <td>131</td>\n",
       "    </tr>\n",
       "  </tbody>\n",
       "</table>\n",
       "</div>"
      ],
      "text/plain": [
       "  sample_id   latitude  longitude  crop_2023\n",
       "0         0  44.550960 -95.411784          1\n",
       "1         1  44.839965 -96.103567        195\n",
       "2        10  44.564679 -95.371450          1\n",
       "3       100  45.477924 -95.783639          1\n",
       "4      1000  44.110942 -94.226726        131"
      ]
     },
     "execution_count": 8,
     "metadata": {},
     "output_type": "execute_result"
    }
   ],
   "source": [
    "new_df.head()"
   ]
  },
  {
   "cell_type": "code",
   "execution_count": 9,
   "metadata": {},
   "outputs": [
    {
     "data": {
      "text/plain": [
       "((394785, 4), (300595, 4), (304620, 4))"
      ]
     },
     "execution_count": 9,
     "metadata": {},
     "output_type": "execute_result"
    }
   ],
   "source": [
    "corn_1 = new_df[new_df['crop_2023'] == 1]\n",
    "soybean_5 = new_df[new_df['crop_2023'] == 5]\n",
    "other_10 = new_df[(new_df['crop_2023']!=1) & (new_df['crop_2023']!=5)]\n",
    "corn_1.shape,soybean_5.shape,other_10.shape"
   ]
  },
  {
   "cell_type": "code",
   "execution_count": 10,
   "metadata": {},
   "outputs": [
    {
     "name": "stderr",
     "output_type": "stream",
     "text": [
      "/home/jlong2/anaconda3/envs/gee37/lib/python3.7/site-packages/ipykernel_launcher.py:1: SettingWithCopyWarning: \n",
      "A value is trying to be set on a copy of a slice from a DataFrame.\n",
      "Try using .loc[row_indexer,col_indexer] = value instead\n",
      "\n",
      "See the caveats in the documentation: https://pandas.pydata.org/pandas-docs/stable/user_guide/indexing.html#returning-a-view-versus-a-copy\n",
      "  \"\"\"Entry point for launching an IPython kernel.\n",
      "/home/jlong2/anaconda3/envs/gee37/lib/python3.7/site-packages/ipykernel_launcher.py:2: SettingWithCopyWarning: \n",
      "A value is trying to be set on a copy of a slice from a DataFrame.\n",
      "Try using .loc[row_indexer,col_indexer] = value instead\n",
      "\n",
      "See the caveats in the documentation: https://pandas.pydata.org/pandas-docs/stable/user_guide/indexing.html#returning-a-view-versus-a-copy\n",
      "  \n",
      "/home/jlong2/anaconda3/envs/gee37/lib/python3.7/site-packages/ipykernel_launcher.py:3: SettingWithCopyWarning: \n",
      "A value is trying to be set on a copy of a slice from a DataFrame.\n",
      "Try using .loc[row_indexer,col_indexer] = value instead\n",
      "\n",
      "See the caveats in the documentation: https://pandas.pydata.org/pandas-docs/stable/user_guide/indexing.html#returning-a-view-versus-a-copy\n",
      "  This is separate from the ipykernel package so we can avoid doing imports until\n"
     ]
    }
   ],
   "source": [
    "corn_1['label']=1\n",
    "soybean_5['label']=5\n",
    "other_10['label']=10"
   ]
  },
  {
   "cell_type": "code",
   "execution_count": 11,
   "metadata": {},
   "outputs": [],
   "source": [
    "# Output corn and soybean trusted pixels\n",
    "# corn_1[['latitude','longitude','label']].to_csv(os.path.join(CDL_folder_path, site_id+'_'+str(year_to_predict)+'_corn_2023_cdl.csv'),index=False)\n",
    "# soybean_5[['latitude','longitude','label']].to_csv(os.path.join(CDL_folder_path, site_id+'_'+str(year_to_predict)+'_soybean_2023_cdl.csv'),index=False)\n",
    "# other_10[['latitude','longitude','label']].to_csv(os.path.join(CDL_folder_path, site_id+'_'+str(year_to_predict)+'_other_2023_cdl.csv'),index=False)"
   ]
  },
  {
   "cell_type": "code",
   "execution_count": 12,
   "metadata": {},
   "outputs": [],
   "source": [
    "frames = [corn_1, soybean_5, other_10]\n",
    "\n",
    "cdl_samples = pd.concat(frames)\n",
    "cdl_samples[['latitude','longitude','label']].to_csv(os.path.join(CDL_folder_path, site_id+'_'+str(year_to_predict)+'_'+str(year_to_predict)+'_cdl_samples.csv'),index=False)\n"
   ]
  }
 ],
 "metadata": {
  "kernelspec": {
   "display_name": "gee37",
   "language": "python",
   "name": "python3"
  },
  "language_info": {
   "codemirror_mode": {
    "name": "ipython",
    "version": 3
   },
   "file_extension": ".py",
   "mimetype": "text/x-python",
   "name": "python",
   "nbconvert_exporter": "python",
   "pygments_lexer": "ipython3",
   "version": "3.7.13"
  }
 },
 "nbformat": 4,
 "nbformat_minor": 2
}
